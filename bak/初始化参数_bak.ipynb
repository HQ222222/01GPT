{
 "cells": [
  {
   "cell_type": "markdown",
   "id": "ea073406-53fb-408a-84e3-70ce73713210",
   "metadata": {},
   "source": [
    "## 初始化参数\n",
    "对比特定初始化与随机初始化的区别"
   ]
  },
  {
   "cell_type": "code",
   "execution_count": 3,
   "id": "8b30c56f-25af-4195-a9df-e52bc261b82f",
   "metadata": {},
   "outputs": [],
   "source": [
    "import torch\n",
    "import torch.nn as nn\n",
    "\n",
    "def initialize_weights(model):\n",
    "    if isinstance(model, nn.Linear):\n",
    "        nn.init.xavier_uniform_(model.weight)\n",
    "        if model.bias is not None:\n",
    "            nn.init.zeros_(model.bias)\n",
    "    elif isinstance(model, nn.Embedding):\n",
    "        nn.init.normal_(model.weight, mean=0, std=1)\n",
    "    elif isinstance(model, nn.LayerNorm):\n",
    "        nn.init.ones_(model.weight)\n",
    "        nn.init.zeros_(model.bias)"
   ]
  },
  {
   "cell_type": "code",
   "execution_count": 4,
   "id": "fa1bb438-914d-466f-9354-082ce0385cf4",
   "metadata": {},
   "outputs": [
    {
     "name": "stderr",
     "output_type": "stream",
     "text": [
      "/data2/anaconda3/envs/python3_10/lib/python3.10/site-packages/torch/nn/modules/module.py:1160: UserWarning: Casting complex values to real discards the imaginary part (Triggered internally at ../aten/src/ATen/native/Copy.cpp:305.)\n",
      "  return t.to(\n"
     ]
    }
   ],
   "source": [
    "config = GPTConfig()\n",
    "model = MiniGPT(config).to(torch.bfloat16)\n",
    "_ = model.apply(initialize_weights)"
   ]
  },
  {
   "cell_type": "code",
   "execution_count": 6,
   "id": "e2ac7f93-41c6-4db9-abbb-8721d50b7b35",
   "metadata": {},
   "outputs": [
    {
     "name": "stdout",
     "output_type": "stream",
     "text": [
      "total_tokens: 8350205240\n"
     ]
    },
    {
     "data": {
      "text/plain": [
       "(225, 25)"
      ]
     },
     "execution_count": 6,
     "metadata": {},
     "output_type": "execute_result"
    }
   ],
   "source": [
    "config = GPTConfig()\n",
    "dataset_path = \"/data2/minigpt/dataset/pretrain/mobvoi_seq_monkey_general_open_corpus.bin\"\n",
    "ds = PretrainBinaryDataset(dataset_path, config.context_length)\n",
    "sub_ds = Subset(ds, range(1000))\n",
    "train_loader, eval_loader = create_dataloaders(sub_ds, batch_size=4, train_ratio=0.90)\n",
    "len(train_loader), len(eval_loader)"
   ]
  },
  {
   "cell_type": "code",
   "execution_count": null,
   "id": "dce61442-96fc-400a-b85e-88e4dc133661",
   "metadata": {},
   "outputs": [],
   "source": [
    "%%time\n",
    "device = 'cuda:0' if torch.cuda.is_available() else 'cpu'\n",
    "train_args = {\n",
    "    \"num_epochs\": 1,\n",
    "    \"eval_steps\": 500,\n",
    "}\n",
    "optimizer = torch.optim.AdamW(model.parameters(), lr=1e-3, weight_decay=0.01)\n",
    "trainer = Trainer(model, optimizer, device, verbose=True)\n",
    "trainer.set_seed(123)\n",
    "trainer.set_loader(train_loader, eval_loader)\n",
    "trainer.train(train_args)"
   ]
  },
  {
   "cell_type": "markdown",
   "id": "6dd8a672-0f6f-4449-8757-f51558cd56a7",
   "metadata": {},
   "source": [
    "set seed to 123\n",
    "set train_loader: <torch.utils.data.dataloader.DataLoader object at 0x7f7b7449be50>\\eval_loader: <torch.utils.data.dataloader.DataLoader object at 0x7f7b785fb550>\n",
    "start epoch:  1\n",
    "2024-12-13 12:30:59 cuda:0, train_loss: 7.8323, eval_loss: 7.5761, steps: 500/12250\n",
    "2024-12-13 12:33:17 cuda:0, train_loss: 7.4436, eval_loss: 7.2764, steps: 1000/12250\n",
    "2024-12-13 12:35:37 cuda:0, train_loss: 7.1551, eval_loss: 6.9615, steps: 1500/12250\n",
    "2024-12-13 12:37:56 cuda:0, train_loss: 6.8751, eval_loss: 6.6525, steps: 2000/12250\n",
    "2024-12-13 12:40:16 cuda:0, train_loss: 6.5821, eval_loss: 6.3639, steps: 2500/12250\n",
    "2024-12-13 12:42:35 cuda:0, train_loss: 6.3106, eval_loss: 6.0797, steps: 3000/12250\n",
    "2024-12-13 12:44:54 cuda:0, train_loss: 6.0664, eval_loss: 5.8495, steps: 3500/12250\n",
    "2024-12-13 12:47:13 cuda:0, train_loss: 5.8419, eval_loss: 5.6428, steps: 4000/12250\n",
    "2024-12-13 12:49:31 cuda:0, train_loss: 5.6669, eval_loss: 5.4261, steps: 4500/12250\n",
    "2024-12-13 12:51:50 cuda:0, train_loss: 5.4612, eval_loss: 5.2382, steps: 5000/12250\n",
    "2024-12-13 12:54:09 cuda:0, train_loss: 5.2547, eval_loss: 5.0406, steps: 5500/12250\n",
    "2024-12-13 12:56:27 cuda:0, train_loss: 5.0856, eval_loss: 4.8871, steps: 6000/12250\n",
    "2024-12-13 12:58:45 cuda:0, train_loss: 4.9534, eval_loss: 4.7542, steps: 6500/12250\n",
    "2024-12-13 13:01:03 cuda:0, train_loss: 4.8042, eval_loss: 4.6657, steps: 7000/12250\n",
    "2024-12-13 13:03:22 cuda:0, train_loss: 4.7288, eval_loss: 4.5734, steps: 7500/12250\n",
    "2024-12-13 13:05:44 cuda:0, train_loss: 4.6500, eval_loss: 4.5030, steps: 8000/12250\n",
    "2024-12-13 13:08:05 cuda:0, train_loss: 4.5745, eval_loss: 4.4449, steps: 8500/12250\n",
    "2024-12-13 13:10:24 cuda:0, train_loss: 4.5161, eval_loss: 4.4019, steps: 9000/12250\n",
    "2024-12-13 13:12:42 cuda:0, train_loss: 4.5010, eval_loss: 4.3533, steps: 9500/12250\n",
    "2024-12-13 13:15:00 cuda:0, train_loss: 4.4435, eval_loss: 4.3193, steps: 10000/12250\n",
    "2024-12-13 13:17:18 cuda:0, train_loss: 4.4129, eval_loss: 4.2794, steps: 10500/12250\n",
    "2024-12-13 13:19:36 cuda:0, train_loss: 4.3691, eval_loss: 4.2506, steps: 11000/12250\n",
    "2024-12-13 13:21:55 cuda:0, train_loss: 4.3471, eval_loss: 4.2261, steps: 11500/12250\n",
    "2024-12-13 13:24:13 cuda:0, train_loss: 4.3113, eval_loss: 4.1974, steps: 12000/12250\n",
    "CPU times: user 39min 31s, sys: 17min 5s, total: 56min 37s\n",
    "Wall time: 56min 35s"
   ]
  },
  {
   "cell_type": "markdown",
   "id": "20018b40-83c5-4ec7-96b2-ba8ff727d1c0",
   "metadata": {},
   "source": [
    "很多时候参数初始化的影响可能对于某些任务或结构并不明显，甚至在默认初始化下效果更好，这是业界一个普遍的现象。"
   ]
  }
 ],
 "metadata": {
  "kernelspec": {
   "display_name": "Python 3 (ipykernel)",
   "language": "python",
   "name": "python3"
  },
  "language_info": {
   "codemirror_mode": {
    "name": "ipython",
    "version": 3
   },
   "file_extension": ".py",
   "mimetype": "text/x-python",
   "name": "python",
   "nbconvert_exporter": "python",
   "pygments_lexer": "ipython3",
   "version": "3.10.14"
  }
 },
 "nbformat": 4,
 "nbformat_minor": 5
}
