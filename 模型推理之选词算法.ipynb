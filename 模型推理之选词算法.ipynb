{
 "cells": [
  {
   "cell_type": "markdown",
   "id": "8d335502-946e-4660-bd5b-6e636b0eef6b",
   "metadata": {},
   "source": [
    "## 1. 引言\n",
    "\n",
    "前面我们已经通过[预训练](https://golfxiao.blog.csdn.net/article/details/144872558)让模型学会了如何基于给定的序列来预测下一个词，通过[SFT之指令微调](https://golfxiao.blog.csdn.net/article/details/145121815)让模型学会了如何遵循人类指令。这个模型在推理时存在一个不足，它每次都是选择可能性最大的词来作为next token，这种单一的选词策略会使得生成的回复显得单调，缺乏多样性和创造性。\n",
    "\n",
    "本文我们将会引入一些更为灵活的解码策略，例如：温度采样、top-k采样，来提高模型生成文本的整体质量。"
   ]
  },
  {
   "cell_type": "markdown",
   "id": "db3556dc-42fe-4bb0-9536-7349bf1fb09f",
   "metadata": {},
   "source": [
    "## 2. 解码策略\n",
    "\n",
    "所谓的解码策略，就是通过不同的概率计算和选词算法，来控制模型生成文本的随机性和多样性，常见的策略有：\n",
    "- argmax：最高概率采样\n",
    "- multiomia：随机概率采样\n",
    "- 温度缩放\n",
    "- top-k采样"
   ]
  },
  {
   "cell_type": "markdown",
   "id": "94e1ed5e-33a3-4c3e-b4b2-f122bb9a8da3",
   "metadata": {},
   "source": [
    "\n"
   ]
  },
  {
   "cell_type": "markdown",
   "id": "e7aadbc8-ce98-4dc0-a069-97bd22bbd44f",
   "metadata": {},
   "source": [
    "#### 2.1 随机概率选词\n",
    "在这之前，我们总是使用`torch. argmax`对概率最高的token进行采样作为下一个词。为了增加多样性，我们可以使用`torch.multiomia(props，num_samples=1)`方法对下一个token进行采样，在这个算法中，每个词被选中的机会对应于它在输入张量中的概率。\n",
    "\n",
    "下面我们有一个非常小的词汇表来演示选词算法的整个过程，其中vocab和inverse_vocab分别表示编码表和解码表。"
   ]
  },
  {
   "cell_type": "code",
   "execution_count": 25,
   "id": "867d6b33-9eba-4fb2-befe-a82dc16b22ce",
   "metadata": {},
   "outputs": [
    {
     "data": {
      "text/plain": [
       "{0: 'closer',\n",
       " 1: 'every',\n",
       " 2: 'effort',\n",
       " 3: 'forward',\n",
       " 4: 'inches',\n",
       " 5: 'moves',\n",
       " 6: 'pizza',\n",
       " 7: 'toward',\n",
       " 8: 'you'}"
      ]
     },
     "execution_count": 25,
     "metadata": {},
     "output_type": "execute_result"
    }
   ],
   "source": [
    "vocab = { \n",
    "    \"closer\": 0,\n",
    "    \"every\": 1, \n",
    "    \"effort\": 2, \n",
    "    \"forward\": 3,\n",
    "    \"inches\": 4,\n",
    "    \"moves\": 5, \n",
    "    \"pizza\": 6,\n",
    "    \"toward\": 7,\n",
    "    \"you\": 8,\n",
    "} \n",
    "inverse_vocab = {v: k for k, v in vocab.items()}\n",
    "inverse_vocab"
   ]
  },
  {
   "cell_type": "markdown",
   "id": "767b1204-a2d7-49d7-a8a1-eda5c3b4906d",
   "metadata": {},
   "source": [
    "假设输入是\"every effort moves you\"，LLM推理得到的`next token`的logits是下面的数值。"
   ]
  },
  {
   "cell_type": "code",
   "execution_count": 26,
   "id": "d880e9cd-acbe-4b42-b0dc-d3840f3880d6",
   "metadata": {},
   "outputs": [],
   "source": [
    "next_token_logits = torch.tensor(\n",
    "    [4.51, 0.89, -1.90, 6.75, 1.63, -1.62, -1.89, 6.28, 1.79]\n",
    ")"
   ]
  },
  {
   "cell_type": "markdown",
   "id": "98685f01-fade-4def-b3ba-5a53a86d6e04",
   "metadata": {},
   "source": [
    "有了上面的数据，我们可以用softmax算法得到这些代表可能性大小的logits所对应的概率`probas`。"
   ]
  },
  {
   "cell_type": "code",
   "execution_count": 27,
   "id": "8d9fbae9-900c-425c-8e6f-ad5ee5c17e88",
   "metadata": {},
   "outputs": [
    {
     "data": {
      "text/plain": [
       "tensor([    0.06091,     0.00163,     0.00010,     0.57212,     0.00342,\n",
       "            0.00013,     0.00010,     0.35758,     0.00401])"
      ]
     },
     "execution_count": 27,
     "metadata": {},
     "output_type": "execute_result"
    }
   ],
   "source": [
    "probas = torch.softmax(next_token_logits, dim=0)\n",
    "torch.set_printoptions(precision=5, sci_mode=False)\n",
    "probas"
   ]
  },
  {
   "cell_type": "markdown",
   "id": "0e2a6ffb-257c-454c-a9a7-b5e1079738d4",
   "metadata": {},
   "source": [
    "> 注：上面的set_printoptions用于设置print函数的打印方式，其中precision选项控制了输出的数值精度为 5 位小数，sci_mode选项则用于关闭科学计数表示法。\n",
    "\n",
    "如果用之前的最大概率算法进行选词，则下一个生成token会是`forward`。"
   ]
  },
  {
   "cell_type": "code",
   "execution_count": 14,
   "id": "d532353d-20dd-4277-bb48-04752cc866c7",
   "metadata": {},
   "outputs": [
    {
     "name": "stdout",
     "output_type": "stream",
     "text": [
      "forward\n"
     ]
    }
   ],
   "source": [
    "next_token_id = torch.argmax(probas).item()\n",
    "print(inverse_vocab[next_token_id])"
   ]
  },
  {
   "cell_type": "markdown",
   "id": "9c26224f-83e8-486a-98e2-05f12fcc646b",
   "metadata": {},
   "source": [
    "并且不论上面这段选词代码运行多少次，结果都会是`forward`，因为argmax算法只选概率最大的词，而上面logits中概率最大的词只有一个。\n",
    "\n",
    "但是如果我们使用`torch.multinomial`算法来选词，得到的词会与上面不一样。\n",
    "> 注：torch.multinomial会按照softmax计算出的概率分布来随机加权采样，这意味着每个词被选中的几率与它对应的概率大小成正比，num_samples=1表示只采样一个token。\n",
    "> item()用于从pytorch张量中获取标量值，只适用于张量中仅有单个元素的情况。"
   ]
  },
  {
   "cell_type": "code",
   "execution_count": 15,
   "id": "5239b501-6461-494e-bb7d-a1dc04b440ab",
   "metadata": {},
   "outputs": [
    {
     "name": "stdout",
     "output_type": "stream",
     "text": [
      "toward\n"
     ]
    }
   ],
   "source": [
    "torch.manual_seed(123)\n",
    "next_token_id = torch.multinomial(probas, num_samples=1).item()\n",
    "print(inverse_vocab[next_token_id])"
   ]
  },
  {
   "cell_type": "markdown",
   "id": "beac8d08-92b2-4c71-abee-0237486ed69c",
   "metadata": {},
   "source": [
    "如果我们运行10次，可以发现，概率大的词被选择的次数更多，同时概率小的词也有被选择的机会。"
   ]
  },
  {
   "cell_type": "code",
   "execution_count": 23,
   "id": "0f7f7c27-c586-4336-92b7-30907603514c",
   "metadata": {},
   "outputs": [
    {
     "name": "stdout",
     "output_type": "stream",
     "text": [
      "No.1:toward\n",
      "No.2:forward\n",
      "No.3:toward\n",
      "No.4:forward\n",
      "No.5:forward\n",
      "No.6:you\n",
      "No.7:forward\n",
      "No.8:forward\n",
      "No.9:forward\n",
      "No.10:closer\n"
     ]
    }
   ],
   "source": [
    "torch.manual_seed(123)\n",
    "for i in range(10):\n",
    "    next_token_id = torch.multinomial(probas, num_samples=1).item()\n",
    "    print(f\"No.{i+1}:{inverse_vocab[next_token_id]}\")"
   ]
  },
  {
   "cell_type": "markdown",
   "id": "42425cc1-7230-4c14-b3ce-13ba1e9b8cf3",
   "metadata": {},
   "source": [
    "下面让我们将**运行次数扩展到一万次**，并对所有采样得到的数据进行分类统计，看看采样结果的分布有什么规律。\n",
    "> `torch.bincount`用于对采样结果进行计数，它会生成一个张量，显示每个token_id索引(i)在sample中出现的次数(freq)。"
   ]
  },
  {
   "cell_type": "code",
   "execution_count": 24,
   "id": "c7a9a365-9c8a-437f-b079-9b480def4074",
   "metadata": {},
   "outputs": [
    {
     "name": "stdout",
     "output_type": "stream",
     "text": [
      "closer --> 641\n",
      "every --> 12\n",
      "effort --> 0\n",
      "forward --> 5746\n",
      "inches --> 39\n",
      "moves --> 5\n",
      "pizza --> 0\n",
      "toward --> 3523\n",
      "you --> 34\n"
     ]
    }
   ],
   "source": [
    "def print_sampled_tokens(probas, n=1):\n",
    "    torch.manual_seed(123) # Manual seed for reproducibility\n",
    "    sample = [torch.multinomial(probas, num_samples=1).item() for i in range(n)]\n",
    "    sampled_ids = torch.bincount(torch.tensor(sample))\n",
    "    for i, freq in enumerate(sampled_ids):\n",
    "        print(f\"{inverse_vocab[i]} --> {freq}\")\n",
    "\n",
    "print_sampled_tokens(probas, 10000)"
   ]
  },
  {
   "cell_type": "markdown",
   "id": "e6106b76-d26b-4fe7-b641-d46b8989ef5a",
   "metadata": {},
   "source": [
    "通过上面的统计结果可以看到，当运行的采样次数足够多时，`torch.multinomial`函数采样的结果会非常接近`softmax`算法得到的概率分布。\n",
    "\n",
    "这个按照概率随机选词的方法（torch.multinomial）已经引入了多样性，不过它还无法自由控制多样性的程度，就像我们使用chatgpt时在某些严谨的场景中希望让模型回答要严谨和准确，而在另外一些场景中希望模型的回答更具有创造性。要实现这样灵活的控制，我们需要引入`温度缩放`。"
   ]
  },
  {
   "cell_type": "markdown",
   "id": "43846896-3e6d-4b47-8402-abbe5704ce1c",
   "metadata": {},
   "source": [
    "#### 2.2 温度缩放\n",
    "\n",
    "**温度缩放**是指在计算概率分布时先将 logits（表示可能性数值） 除以大于 0 的数字，再应用softmax函数得到概率分布。温度的作用在于可以通过改变温度值来改变概率分布，其中：\n",
    "- 温度大于1时，将使各个token之间的概率分布值更加平滑，原来概率大的值将会适当减小，而概率小的值将会适当变大，相当于增加了较低概率词的选择可能性； \n",
    "- 温度小于1时，将使各个token之间的概率分布值更加尖锐，原来概率大的值将会更大，这意味着结果将更具有确定性；\n",
    "\n",
    "下面让我们实现一个支持温度缩放的softmax函数。"
   ]
  },
  {
   "cell_type": "code",
   "execution_count": null,
   "id": "0d7bf9ca-903e-4b13-9398-492fb2b30809",
   "metadata": {},
   "outputs": [],
   "source": [
    "def softmax_with_temperature(logits, temperature):\n",
    "    scaled_logits = logits / temperature\n",
    "    return torch.softmax(scaled_logits, dim=0)"
   ]
  },
  {
   "cell_type": "markdown",
   "id": "3369709b-b6a5-466c-bd0a-a7908a354c6b",
   "metadata": {},
   "source": [
    "为了示例这个函数的效果，我们我们定义三个不同的温度值，并计算对应的概率分布。\n",
    "- 1：正常温度，表示没有调整。\n",
    "- 0.1：较低的温度，输出将更集中在高概率词附近。\n",
    "- 5：较高的温度，输出将更分散，可能包含更多低概率词。"
   ]
  },
  {
   "cell_type": "code",
   "execution_count": 26,
   "id": "2550f60d-9ce4-48ac-bf30-0d77d38b9556",
   "metadata": {},
   "outputs": [
    {
     "data": {
      "text/plain": [
       "[tensor([    0.06091,     0.00163,     0.00010,     0.57212,     0.00342,\n",
       "             0.00013,     0.00010,     0.35758,     0.00401]),\n",
       " tensor([    0.00000,     0.00000,     0.00000,     0.99099,     0.00000,\n",
       "             0.00000,     0.00000,     0.00901,     0.00000]),\n",
       " tensor([0.15465, 0.07497, 0.04291, 0.24205, 0.08693, 0.04538, 0.04300, 0.22034,\n",
       "         0.08976])]"
      ]
     },
     "execution_count": 26,
     "metadata": {},
     "output_type": "execute_result"
    }
   ],
   "source": [
    "temperatures = [1, 0.1, 5] \n",
    "scaled_probas = [softmax_with_temperature(next_token_logits, T) for T in temperatures]\n",
    "scaled_probas"
   ]
  },
  {
   "cell_type": "markdown",
   "id": "4b51b875-343b-4024-b064-4af564ae4c30",
   "metadata": {},
   "source": [
    "上面得到了分别用三个温度缩放后的概率分布，但数字有些多看起来不够直观，我们用matplotlib来绘制三个概率分布的柱状图表示。"
   ]
  },
  {
   "cell_type": "code",
   "execution_count": 28,
   "id": "80e2aaae-a027-4fd6-b86d-eadc4c3ed40a",
   "metadata": {},
   "outputs": [
    {
     "data": {
      "image/png": "[encoded data removed]",
      "text/plain": [
       "<Figure size 500x300 with 1 Axes>"
      ]
     },
     "metadata": {},
     "output_type": "display_data"
    }
   ],
   "source": [
    "import matplotlib.pyplot as plt\n",
    "# Plotting\n",
    "x = torch.arange(len(vocab))\n",
    "bar_width = 0.15\n",
    "\n",
    "fig, ax = plt.subplots(figsize=(5, 3))\n",
    "for i, T in enumerate(temperatures):\n",
    "    rects = ax.bar(x + i * bar_width, scaled_probas[i], bar_width, label=f'Temperature = {T}')\n",
    "\n",
    "ax.set_ylabel('Probability')\n",
    "ax.set_xticks(x)\n",
    "ax.set_xticklabels(vocab.keys(), rotation=90)\n",
    "ax.legend()\n",
    "\n",
    "plt.tight_layout()\n",
    "plt.show()"
   ]
  },
  {
   "cell_type": "markdown",
   "id": "5566c42e-1738-423e-8482-2937c8af80dc",
   "metadata": {},
   "source": [
    "通过图示我们可以看到，相对于默认的`温度=1`的概率分布（上图中蓝色表示），其它两个温度对概率分布的影响如下：\n",
    "- 通过温度=`0.1` 的重新缩放后，概率呈现更加清晰（或尖锐）的分布，`forward`这个词几乎总是被选中，接近于 `torch.argmax`函数的效果；\n",
    "- 通过温度=`5` 的重新缩放后，概率呈现更加平坦的分布，其中`forward`和`toward`的概率最高，但其它词`closer`、`every`、`effort`、`inches`、`moves`、`pizza`、`you`也柱状图上也呈现出一定的概率分布。\n",
    "\n",
    "\n",
    "> 注：从上面温度对概率分布的影响可以看出，温度如果持续升高，高可能性词和低可能性词的概率值将趋近于相同，这意味着模型输出将接近完全随机，等于回到了预训练之前，这肯定不是我们想要的，所以实际场景中，温度调整范围会限定在一个有效的区间内，像ChatGPT的**温度有效区间**就是`0-2`。\n"
   ]
  },
  {
   "cell_type": "markdown",
   "id": "e20f12b6-59fc-4b82-a245-e89565d6d72b",
   "metadata": {},
   "source": [
    "#### 2.3 topK\n",
    "\n",
    "上面我们引入温度缩放获得了对模型输出多样性的自由控制，但放到实际应用中仍然会有一些潜在的问题，例如：\n",
    "在使用更高温度提高多样性时，模型偶尔会输出一些罕见且低质量的词，导致生成文本的整体效果变差。\n",
    "> 原因在于: 每次推理时词表中的所有词都是有效值，虽然低可能性词的概率很低，但这些词仍然有一定的几率被选中，一旦被选中就会加入到序列上下文中影响后续token的预测，导致模型会生成一些奇奇怪怪不着边际的内容。\n",
    "\n",
    "为了能够使用更高的温度来增加输出多样性并减少无意义句子的概率，我们可以将采样的标记限制为 top-k 个最有可能的标记。"
   ]
  },
  {
   "cell_type": "code",
   "execution_count": 29,
   "id": "de87a9a6-1598-46e9-9a69-b2df0024edca",
   "metadata": {},
   "outputs": [
    {
     "name": "stdout",
     "output_type": "stream",
     "text": [
      "Top logits: tensor([6.75000, 6.28000, 4.51000])\n",
      "Top positions: tensor([3, 7, 0])\n"
     ]
    }
   ],
   "source": [
    "top_k = 3\n",
    "top_logits, top_pos = torch.topk(next_token_logits, top_k)\n",
    "\n",
    "print(\"Top logits:\", top_logits)\n",
    "print(\"Top positions:\", top_pos)"
   ]
  },
  {
   "cell_type": "markdown",
   "id": "a2841710-24fb-4132-a461-1fa205b7666d",
   "metadata": {},
   "source": [
    "> 在上面的例子中，我们使用了top 3, 9个词中只有可能性最高的前3个词`forward`、`toward`、`closer`是有效的。\n",
    "\n",
    "接下来要做的是，将上面三个词的logits值保留，其它位置的都置为`-inf`，目的是在随后的softmax环节只计算这三个词的概率分布。"
   ]
  },
  {
   "cell_type": "code",
   "execution_count": 31,
   "id": "ed92d224-8ab3-44cb-9fae-39c30b3a196d",
   "metadata": {},
   "outputs": [
    {
     "name": "stdout",
     "output_type": "stream",
     "text": [
      "tensor([4.51000,    -inf,    -inf, 6.75000,    -inf,    -inf,    -inf, 6.28000,\n",
      "           -inf])\n"
     ]
    }
   ],
   "source": [
    "new_logits = torch.where(\n",
    "    condition=next_token_logits < top_logits[-1],\n",
    "    input=torch.tensor(float(\"-inf\")), \n",
    "    other=next_token_logits\n",
    ")\n",
    "print(new_logits)"
   ]
  },
  {
   "cell_type": "markdown",
   "id": "01bf78ee-2e43-4939-ba45-cad764aaf2ad",
   "metadata": {},
   "source": [
    "> torch.where的释义如下：\n",
    "> - condition: 用于找出比4.51000（上面3个logits中的最小值）小的所有元素； \n",
    "> - input: 满足condition条件的元素将被替换为`-inf`； \n",
    "> - other: 当condition不满足时，则保留next_token_logits中的原始值； \n",
    "\n",
    "对这个new_logits重新计算概率分布。"
   ]
  },
  {
   "cell_type": "code",
   "execution_count": 32,
   "id": "ed711e2a-3c9e-49a7-9a6a-0ba184f11674",
   "metadata": {},
   "outputs": [
    {
     "name": "stdout",
     "output_type": "stream",
     "text": [
      "tensor([0.06148, 0.00000, 0.00000, 0.57755, 0.00000, 0.00000, 0.00000, 0.36097,\n",
      "        0.00000])\n"
     ]
    }
   ],
   "source": [
    "topk_probas = torch.softmax(new_logits, dim=0)\n",
    "print(topk_probas)"
   ]
  },
  {
   "cell_type": "markdown",
   "id": "094943a1-6901-4163-9e7d-93b421893edc",
   "metadata": {},
   "source": [
    "可以看到，只有3、7、0这三个位置的概率有效，其它位置概率均为0。"
   ]
  },
  {
   "cell_type": "markdown",
   "id": "101605ee-c0b1-4a4b-98c3-b1f95f0f6882",
   "metadata": {},
   "source": [
    "## 3. 解码策略应用\n",
    "\n",
    "#### 3.1 生成函数改造\n",
    "首先，将上面的`top_k`算法封装为一个独立的top_k采样函数。"
   ]
  },
  {
   "cell_type": "code",
   "execution_count": 42,
   "id": "291833f3-eb50-40d5-acc5-22ef4e3cecdc",
   "metadata": {},
   "outputs": [],
   "source": [
    "def top_k_sampling(next_token_logits, top_k):\n",
    "    top_logits, top_pos = torch.topk(next_token_logits, top_k)\n",
    "    min_val = top_logits[:, -1]\n",
    "    new_logits = torch.where(\n",
    "        condition=next_token_logits < min_val,\n",
    "        input=torch.tensor(float(\"-inf\")).to(next_token_logits.device),\n",
    "        other=next_token_logits,\n",
    "    )\n",
    "    return new_logits"
   ]
  },
  {
   "cell_type": "markdown",
   "id": "47faa1db-6a6a-4f32-b066-b01ce5f48019",
   "metadata": {},
   "source": [
    "再将`温度缩放`策略封装为一个独立的温度采样函数，在这个函数中分为两种情况：\n",
    "1. 温度大于0，需要根据温度大小缩放，走随机概率来选择下一个token；\n",
    "2. 温度等于0，还和之前一样，固定取概率最大的词作为下一个token；"
   ]
  },
  {
   "cell_type": "code",
   "execution_count": 43,
   "id": "31fa3159-0b9a-4ffe-9f94-2458e2e853d7",
   "metadata": {},
   "outputs": [],
   "source": [
    "def temperature_sampling(next_token_logits, temperature):\n",
    "    if temperature > 0.0:\n",
    "        logits = next_token_logits / temperature\n",
    "        probs = torch.softmax(logits, dim=-1)  \n",
    "        next_token_ids = torch.multinomial(probs, num_samples=1)\n",
    "    else:\n",
    "        probs = torch.softmax(next_token_logits, dim=-1)\n",
    "        next_token_ids = torch.argmax(probs, dim=-1, keepdim=True)  \n",
    "    return next_token_ids"
   ]
  },
  {
   "cell_type": "markdown",
   "id": "86b9df8c-7ada-407b-b095-16f380549a3d",
   "metadata": {},
   "source": [
    "导入MiniGPT的模型结构代码，并基于上面两个新的选词策略来封装一个v2版本的generate函数。"
   ]
  },
  {
   "cell_type": "code",
   "execution_count": 44,
   "id": "6064c29b-e3e5-4aff-a3fb-72e04194328e",
   "metadata": {},
   "outputs": [],
   "source": [
    "%run transformer.py"
   ]
  },
  {
   "cell_type": "code",
   "execution_count": 45,
   "id": "316edb63-a13e-4b24-965a-a867e7335fac",
   "metadata": {},
   "outputs": [],
   "source": [
    "def generate_v2(self, input_ids, max_length=512, eos_token_id=-1, temperature=0.0, top_k=None, **kwargs):\n",
    "    assert isinstance(max_length, int) and max_length > 0\n",
    "    eos_reached = torch.zeros(len(input_ids), dtype=torch.bool, device=input_ids.device)\n",
    "    \n",
    "    for _ in range(max_length):\n",
    "        # 超出上下文长度时，截取最后的context_length个token\n",
    "        context_ids = input_ids[:, -self.context_length:]  \n",
    "        with torch.no_grad():\n",
    "            output = self(context_ids, **kwargs)  # shape: batch, n_tokens, vocab_size\n",
    "        # 只取每个序列最后一个token的输出向量作为logits, shape变为: batch, vocab_size\n",
    "        next_token_logits = output[:, -1, :]  \n",
    "        # New: top_k采样\n",
    "        if top_k is not None:\n",
    "            next_token_logits = top_k_sampling(next_token_logits, top_k)\n",
    "        # New: 温度采样\n",
    "        next_token_ids = temperature_sampling(next_token_logits, temperature)\n",
    "        # 将next_token_id连接到每个序列的结尾，形状变为：batch, n_tokens+1\n",
    "        input_ids = torch.cat((input_ids, next_token_ids), dim=1)\n",
    "        # 判断是否所有序列都结束\n",
    "        eos_reached |= (next_token_ids.squeeze(-1) == eos_token_id)\n",
    "        if eos_reached.all(): break\n",
    "\n",
    "    return input_ids\n",
    "\n",
    "setattr(MiniGPT, \"generate_v2\", generate_v2)"
   ]
  },
  {
   "cell_type": "markdown",
   "id": "fe48e32d-c840-4d27-ab95-7f2f2275f047",
   "metadata": {},
   "source": [
    "#### 3.2 生成文本测试\n",
    "\n",
    "首先，基于上一节[SFT之指令微调](https://golfxiao.blog.csdn.net/article/details/145121815)训练的权重参数来加载模型状态。"
   ]
  },
  {
   "cell_type": "code",
   "execution_count": 46,
   "id": "5709f27f-5fd9-425b-b431-5f7355a40fcd",
   "metadata": {},
   "outputs": [
    {
     "data": {
      "text/plain": [
       "<All keys matched successfully>"
      ]
     },
     "execution_count": 46,
     "metadata": {},
     "output_type": "execute_result"
    }
   ],
   "source": [
    "device='cuda:2'\n",
    "model = MiniGPT(GPTConfig()).to(device)\n",
    "sft_checkpoint_path = \"/data2/minigpt/models/sft/20241020/checkpoint-330000.pth\"\n",
    "sft_checkpoint = torch.load(sft_checkpoint_path, map_location=device, weights_only=False)\n",
    "model.load_state_dict(sft_checkpoint['model_state'])"
   ]
  },
  {
   "cell_type": "markdown",
   "id": "1fcce298-6a30-457d-8332-1e7baf89d291",
   "metadata": {},
   "source": [
    "加载分词器，并封装两个编码和解码方法，用于人类文本和token_id序列之间的转换。"
   ]
  },
  {
   "cell_type": "code",
   "execution_count": 34,
   "id": "699498f1-dc30-4756-8dc1-19b5fd25f449",
   "metadata": {},
   "outputs": [],
   "source": [
    "tokenizer_path = \"/data2/minigpt/models/tokenizer_v3\"\n",
    "tokenizer = AutoTokenizer.from_pretrained(tokenizer_path, use_fast=False)"
   ]
  },
  {
   "cell_type": "code",
   "execution_count": 56,
   "id": "1537afd1-4c7d-473b-aaa7-6198cfe9b6a0",
   "metadata": {},
   "outputs": [],
   "source": [
    "def encode(tokenizer, prompt):\n",
    "    messages = [{\"role\": \"user\", \"content\": instruction}]\n",
    "    prompt = tokenizer.apply_chat_template(messages, tokenize=False, add_generation_prompt=True)\n",
    "    return torch.tensor([tokenizer.encode(prompt)])\n",
    "\n",
    "def decode(tokenizer, token_ids):\n",
    "    return tokenizer.decode(token_ids, skip_special_tokens=True)"
   ]
  },
  {
   "cell_type": "markdown",
   "id": "f7d2e2dd-15b2-40f5-95a2-46db71cef237",
   "metadata": {},
   "source": [
    "将`encode`、`generate_v2`、`decode`三个方法串在一起，就构成了一个文本推理方法。"
   ]
  },
  {
   "cell_type": "code",
   "execution_count": 57,
   "id": "d3e461a6-a5d9-495c-bdfc-eb81bdd4276b",
   "metadata": {},
   "outputs": [],
   "source": [
    "def predict(model, tokenizer, prompt, device, max_new_tokens=128, temperature=0.0, top_k=None):\n",
    "    inputs = encode(tokenizer, prompt).to(device)\n",
    "    response_ids = model.generate_v2(inputs, max_new_tokens, tokenizer.eos_token_id, temperature, top_k)\n",
    "    response_ids = [\n",
    "        output_ids[len(input_ids):] for input_ids, output_ids in zip(inputs, response_ids)\n",
    "    ]\n",
    "    return decode(tokenizer, response_ids[0])"
   ]
  },
  {
   "cell_type": "markdown",
   "id": "656b92c4-82e8-44b1-877b-3e4ee2568036",
   "metadata": {},
   "source": [
    "下面，我们来看下不同温度和top_k参数所带来的文本生成效果。\n",
    "\n",
    "1. 不使用温度缩放和top-k算法。"
   ]
  },
  {
   "cell_type": "code",
   "execution_count": 61,
   "id": "7b00a5e9-46a4-4849-9242-b28c2b376526",
   "metadata": {},
   "outputs": [
    {
     "data": {
      "text/plain": [
       "'AI（人工智能）是一种模拟人类智能的技术，它使计算机系统能够像人类一样思考、学习、推理、解决问题和做出决策。AI可以被视为一种技术，它可以让计算机系统执行复杂的任务，例如语音识别、图像识别、自然语言处理、智能推荐、自动驾驶等。AI的应用范围非常广泛，包括医疗保健、金融、制造业、交通、教育、交通等各个领域。'"
      ]
     },
     "execution_count": 61,
     "metadata": {},
     "output_type": "execute_result"
    }
   ],
   "source": [
    "instruction = \"请介绍下什么是AI？\"\n",
    "predict(model, tokenizer, instruction, device, 128, 0.0, None)"
   ]
  },
  {
   "cell_type": "markdown",
   "id": "ece790d0-dd6d-407c-baa8-4c4e902cad38",
   "metadata": {},
   "source": [
    "2. 设定温度为0.7，top_k为10。"
   ]
  },
  {
   "cell_type": "code",
   "execution_count": 72,
   "id": "f2c2eb22-6655-46be-bf55-2da9afaf08f5",
   "metadata": {},
   "outputs": [
    {
     "data": {
      "text/plain": [
       "'AI（人工智能）是一种技术，其目的是开发一种能够模拟人类智能的智能系统，这些系统可以自主思考、学习和决策。AI可以通过机器学习、深度学习和其他算法实现，从而使计算机能够处理类似于人类的思维和行为，并自动执行某些任务。AI已经广泛应用于许多领域，包括医疗保健、金融、交通、教育和制造业等。AI的发展前景非常广阔，可以为人类带来许多便利和好处，但也有一些人担心AI会取代人类，导致失业率上升等问题。'"
      ]
     },
     "execution_count": 72,
     "metadata": {},
     "output_type": "execute_result"
    }
   ],
   "source": [
    "predict(model, tokenizer, instruction, device, 128, 0.7, 20)"
   ]
  },
  {
   "cell_type": "markdown",
   "id": "d2c28698-e205-4262-a7a5-f260bbbf7412",
   "metadata": {},
   "source": [
    "3. 设定温度为2.0，top_k为20。"
   ]
  },
  {
   "cell_type": "code",
   "execution_count": 64,
   "id": "d90d4bab-5043-4537-a171-7cf09be7c480",
   "metadata": {},
   "outputs": [
    {
     "data": {
      "text/plain": [
       "'AI(人工智能技术)是现代世界范围内最为先进的技术手段，它是基于计算机模拟人类大脑的技术。它涉及了计算机科学、哲学、心理学等多个领域的研究，以改善人类的生产力和生活质量等为主要目的。例如，人工智能可以帮助机器模拟认知和行为，使其能够处理复杂的问题，并从数据中获取有价值的信息和数据。AI应用在医疗健康、智能驾驶、智能金融、智能交通等领域有着很大的发展优势。然而，随着AI技术的日益发展和AI应用的普及和深入探索越来越多，人们对于如何利用 AI 的同时保持道德和隐私问题提出了更高的需求。总之AI是目前在科技领域广泛应用的前沿技术领域所涉及的核心技术。'"
      ]
     },
     "execution_count": 64,
     "metadata": {},
     "output_type": "execute_result"
    }
   ],
   "source": [
    "predict(model, tokenizer, instruction, device, 128, 2.0, 20)"
   ]
  },
  {
   "cell_type": "markdown",
   "id": "591c1809-b12d-48d8-b390-8fe504f6fa68",
   "metadata": {},
   "source": [
    "可以看到，随着温度从0到2的变化，模型生成的文本变得越来越丰富。"
   ]
  },
  {
   "cell_type": "markdown",
   "id": "93d1debf-62c8-4480-979e-481e69692ba5",
   "metadata": {},
   "source": [
    "**小结**：本文主要介绍了大语言模型在生成文本时常用的几种解码策略，multiomia用于按照概率随机采样，temperature用于控制生成文本的多样性和创造性，top_k用于规避掉低质量的token，这些解码策略可以相互结合使用。在实际应用中，可以根据具体需求灵活调整这些参数，将有助于生成更符合预期的文本内容。"
   ]
  },
  {
   "cell_type": "code",
   "execution_count": null,
   "id": "652f7d47-bd4e-4f84-9f07-ad8f1bc94b5e",
   "metadata": {},
   "outputs": [],
   "source": []
  }
 ],
 "metadata": {
  "kernelspec": {
   "display_name": "Python 3 (ipykernel)",
   "language": "python",
   "name": "python3"
  },
  "language_info": {
   "codemirror_mode": {
    "name": "ipython",
    "version": 3
   },
   "file_extension": ".py",
   "mimetype": "text/x-python",
   "name": "python",
   "nbconvert_exporter": "python",
   "pygments_lexer": "ipython3",
   "version": "3.10.14"
  }
 },
 "nbformat": 4,
 "nbformat_minor": 5
}
