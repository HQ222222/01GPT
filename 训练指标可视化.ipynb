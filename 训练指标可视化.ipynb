{
 "cells": [
  {
   "cell_type": "markdown",
   "id": "aaa3bfdf-12ab-4001-82a7-85e988d2ebfb",
   "metadata": {},
   "source": [
    "## 训练指标可视化\n",
    "\n",
    "1. 介绍可视化训练效果带来的好处：tensorboard\n",
    "2. 在训练器中引入summerywriter\n",
    "3. 使用tensorboard来观察训练指标，引入学习率、损失，梯度，困惑度\n",
    "4. 为什么训练损失不下降？\n",
    "5. 为什么梯度范数很小？"
   ]
  }
 ],
 "metadata": {
  "kernelspec": {
   "display_name": "Python 3 (ipykernel)",
   "language": "python",
   "name": "python3"
  },
  "language_info": {
   "codemirror_mode": {
    "name": "ipython",
    "version": 3
   },
   "file_extension": ".py",
   "mimetype": "text/x-python",
   "name": "python",
   "nbconvert_exporter": "python",
   "pygments_lexer": "ipython3",
   "version": "3.10.14"
  }
 },
 "nbformat": 4,
 "nbformat_minor": 5
}
